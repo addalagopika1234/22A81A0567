{
  "nbformat": 4,
  "nbformat_minor": 0,
  "metadata": {
    "colab": {
      "provenance": []
    },
    "kernelspec": {
      "name": "python3",
      "display_name": "Python 3"
    },
    "language_info": {
      "name": "python"
    }
  },
  "cells": [
    {
      "cell_type": "code",
      "execution_count": null,
      "metadata": {
        "id": "WP6Qgh3F1LZn"
      },
      "outputs": [],
      "source": [
        "import tensorflow as tf\n",
        "from tensorflow import keras\n",
        "from tensorflow.keras import layers\n",
        "from tensorflow.keras.preprocessing.image import ImageDataGenerator\n",
        "#Define image size and batch size\n",
        "IMG_SIZE=224\n",
        "BATCH_SIZE=32"
      ]
    },
    {
      "cell_type": "code",
      "source": [
        "#define data generator for train,validation and test sets\n",
        "train_datagen=ImageDataGenerator(\n",
        "    rescale=1./225, #image into grescale image using rgb )\n",
        "    validation_split=0.2 #training,validation and testing 3 steps)\n",
        "      )\n",
        "train_generator=train_datagen.flow_from_directory('/content/drive/MyDrive/magoes/train',\n",
        "target_size=(IMG_SIZE,IMG_SIZE),\n",
        "batch_size=BATCH_SIZE,\n",
        "class_mode='binary',\n",
        "subset='training'\n",
        ")\n",
        "val_generator = train_datagen.flow_from_directory(\n",
        "    '/content/drive/MyDrive/magoes/train',target_size=(IMG_SIZE,IMG_SIZE),\n",
        "batch_size=BATCH_SIZE,\n",
        "class_mode='binary',\n",
        "subset='validation'\n",
        ")\n",
        "test_datagen=ImageDataGenerator(rescale=1./255)\n",
        "test_generator=test_datagen.flow_from_directory('/content/drive/MyDrive/magoes/test',\n",
        "target_size=(IMG_SIZE,IMG_SIZE),\n",
        "batch_size=BATCH_SIZE,\n",
        "class_mode='binary'\n",
        ")"
      ],
      "metadata": {
        "colab": {
          "base_uri": "https://localhost:8080/"
        },
        "id": "D_Fyh36R1Ujc",
        "outputId": "03f2c119-f44b-4a4c-a5fb-b531bb2c0d98"
      },
      "execution_count": null,
      "outputs": [
        {
          "output_type": "stream",
          "name": "stdout",
          "text": [
            "Found 16 images belonging to 2 classes.\n",
            "Found 4 images belonging to 2 classes.\n",
            "Found 11 images belonging to 1 classes.\n"
          ]
        }
      ]
    },
    {
      "cell_type": "code",
      "source": [
        "from google.colab import drive\n",
        "drive.mount('/content/drive')"
      ],
      "metadata": {
        "colab": {
          "base_uri": "https://localhost:8080/"
        },
        "id": "yycI4SJR1muv",
        "outputId": "b1fd5483-86cd-4d54-b121-134321b2dbbe"
      },
      "execution_count": null,
      "outputs": [
        {
          "output_type": "stream",
          "name": "stdout",
          "text": [
            "Drive already mounted at /content/drive; to attempt to forcibly remount, call drive.mount(\"/content/drive\", force_remount=True).\n"
          ]
        }
      ]
    },
    {
      "cell_type": "code",
      "source": [
        "#define a model\n",
        "model = keras.Sequential([\n",
        "    layers.Conv2D(32, (3, 3), activation='relu', input_shape=(IMG_SIZE, IMG_SIZE, 3)),\n",
        "    layers.MaxPooling2D((2, 2)),\n",
        "    layers.Conv2D(64, (3, 3), activation='relu'),\n",
        "    layers.MaxPooling2D((2, 2)),\n",
        "    layers.Conv2D(128, (3, 3), activation='relu'),\n",
        "    layers.MaxPooling2D((2, 2)),\n",
        "    layers.Flatten(),\n",
        "    layers.Dense(128, activation='relu'),\n",
        "    layers.Dense(1, activation='sigmoid')\n",
        "])"
      ],
      "metadata": {
        "id": "r_zIXfuN2FFG"
      },
      "execution_count": null,
      "outputs": []
    },
    {
      "cell_type": "code",
      "source": [
        "#compile the model\n",
        "model.compile(optimizer='adam',loss='binary_crossentropy',metrics=['accuracy'])"
      ],
      "metadata": {
        "id": "-dmU2lBx2M8H"
      },
      "execution_count": null,
      "outputs": []
    },
    {
      "cell_type": "code",
      "source": [
        "history = model.fit(train_generator,validation_data=val_generator,epochs=10)"
      ],
      "metadata": {
        "colab": {
          "base_uri": "https://localhost:8080/"
        },
        "id": "icCNwQ2A2Q5T",
        "outputId": "b716586d-4451-421c-85f8-895f178c3a8a"
      },
      "execution_count": null,
      "outputs": [
        {
          "output_type": "stream",
          "name": "stdout",
          "text": [
            "Epoch 1/10\n",
            "1/1 [==============================] - 2s 2s/step - loss: 0.6515 - accuracy: 0.5625 - val_loss: 0.5911 - val_accuracy: 0.7500\n",
            "Epoch 2/10\n",
            "1/1 [==============================] - 2s 2s/step - loss: 0.5519 - accuracy: 0.7500 - val_loss: 0.7923 - val_accuracy: 0.5000\n",
            "Epoch 3/10\n",
            "1/1 [==============================] - 2s 2s/step - loss: 0.5426 - accuracy: 0.5625 - val_loss: 0.4356 - val_accuracy: 1.0000\n",
            "Epoch 4/10\n",
            "1/1 [==============================] - 2s 2s/step - loss: 0.2898 - accuracy: 0.9375 - val_loss: 0.2990 - val_accuracy: 1.0000\n",
            "Epoch 5/10\n",
            "1/1 [==============================] - 3s 3s/step - loss: 0.2350 - accuracy: 0.9375 - val_loss: 0.3092 - val_accuracy: 1.0000\n",
            "Epoch 6/10\n",
            "1/1 [==============================] - 2s 2s/step - loss: 0.1549 - accuracy: 1.0000 - val_loss: 0.1516 - val_accuracy: 1.0000\n",
            "Epoch 7/10\n",
            "1/1 [==============================] - 2s 2s/step - loss: 0.0963 - accuracy: 0.9375 - val_loss: 0.1393 - val_accuracy: 1.0000\n",
            "Epoch 8/10\n",
            "1/1 [==============================] - 2s 2s/step - loss: 0.0513 - accuracy: 1.0000 - val_loss: 0.4010 - val_accuracy: 0.7500\n",
            "Epoch 9/10\n",
            "1/1 [==============================] - 3s 3s/step - loss: 0.0504 - accuracy: 1.0000 - val_loss: 0.0263 - val_accuracy: 1.0000\n",
            "Epoch 10/10\n",
            "1/1 [==============================] - 2s 2s/step - loss: 0.1237 - accuracy: 0.9375 - val_loss: 0.0552 - val_accuracy: 1.0000\n"
          ]
        }
      ]
    },
    {
      "cell_type": "code",
      "source": [
        "model.save(\"Model.h5\",\"label.txt\")"
      ],
      "metadata": {
        "colab": {
          "base_uri": "https://localhost:8080/"
        },
        "id": "ZmLx4DX42Ukz",
        "outputId": "b6e6f4b2-83e1-4d11-8277-8f7a3011254d"
      },
      "execution_count": null,
      "outputs": [
        {
          "output_type": "stream",
          "name": "stderr",
          "text": [
            "/usr/local/lib/python3.10/dist-packages/keras/src/engine/training.py:3103: UserWarning: You are saving your model as an HDF5 file via `model.save()`. This file format is considered legacy. We recommend using instead the native Keras format, e.g. `model.save('my_model.keras')`.\n",
            "  saving_api.save_model(\n"
          ]
        }
      ]
    },
    {
      "cell_type": "code",
      "source": [
        "from tensorflow.keras.models import load_model\n",
        "from tensorflow.keras.preprocessing import image\n",
        "import numpy as np\n",
        "#load the saved model\n",
        "model=load_model('/content/Model.h5')\n",
        "#load and preprocess the test image\n",
        "test_image_path='/content/drive/MyDrive/magoes/train/raw/images (4).jpeg.jpg'\n",
        "img=image.load_img(test_image_path,target_size=(224,224))\n",
        "img_array=image.img_to_array(img)\n",
        "img_array=np.expand_dims(img_array,axis=0) #add batch dimension\n",
        "img_array /=225. #normalize the pixel values\n",
        "#make predictions\n",
        "prediction=model.predict(img_array)\n",
        "#print the prediction\n",
        "if prediction <0.5:\n",
        "  print(\"prediction: rawmango(probability:\",prediction[0][0],\")\")\n",
        "else:\n",
        "  print(\"prediction: not a rawmango(probability:\",prediction[0][0],\")\")"
      ],
      "metadata": {
        "id": "mPeC1N7e2rdL",
        "colab": {
          "base_uri": "https://localhost:8080/"
        },
        "outputId": "5f6e54fe-c47d-4908-9dae-47102cd808f2"
      },
      "execution_count": null,
      "outputs": [
        {
          "output_type": "stream",
          "name": "stdout",
          "text": [
            "1/1 [==============================] - 0s 249ms/step\n",
            "prediction: rawmango(probability: 0.042423435 )\n"
          ]
        }
      ]
    }
  ]
}